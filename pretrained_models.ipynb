{
  "cells": [
    {
      "cell_type": "markdown",
      "metadata": {
        "id": "view-in-github",
        "colab_type": "text"
      },
      "source": [
        "<a href=\"https://colab.research.google.com/github/JCRUNA/DartLanguage/blob/main/pretrained_models.ipynb\" target=\"_parent\"><img src=\"https://colab.research.google.com/assets/colab-badge.svg\" alt=\"Open In Colab\"/></a>"
      ]
    },
    {
      "cell_type": "markdown",
      "metadata": {
        "id": "sEx-GKGTfo-J"
      },
      "source": [
        "### Clasificación de imágenes con VGGNet, ResNet, Inception y Xception con Python y Keras"
      ]
    },
    {
      "cell_type": "markdown",
      "metadata": {
        "id": "M0K1iWWSfo-N"
      },
      "source": [
        "Aprendamos a clasificar imágenes con redes neuronales convolucionales previamente entrenadas utilizando la biblioteca de Keras.\n",
        "Creamos archivo nuevo llamado classify_image.py"
      ]
    },
    {
      "cell_type": "code",
      "source": [
        "cd/content/drive/MyDrive/Colab Notebooks/proyectos/redes preentrenadas"
      ],
      "metadata": {
        "colab": {
          "base_uri": "https://localhost:8080/"
        },
        "id": "l0EnbRpcjoD7",
        "outputId": "a68cd5f2-8e39-41c9-f878-6478bef354a9"
      },
      "execution_count": 4,
      "outputs": [
        {
          "output_type": "stream",
          "name": "stdout",
          "text": [
            "/content/drive/MyDrive/Colab Notebooks/proyectos/redes preentrenadas\n"
          ]
        }
      ]
    },
    {
      "cell_type": "code",
      "source": [
        "from google.colab import drive\n",
        "drive.mount('/content/drive')"
      ],
      "metadata": {
        "colab": {
          "base_uri": "https://localhost:8080/"
        },
        "id": "sxMPl0WSj4el",
        "outputId": "2d7bc4f7-a997-4837-9774-776185fb88cc"
      },
      "execution_count": 2,
      "outputs": [
        {
          "output_type": "stream",
          "name": "stdout",
          "text": [
            "Drive already mounted at /content/drive; to attempt to forcibly remount, call drive.mount(\"/content/drive\", force_remount=True).\n"
          ]
        }
      ]
    },
    {
      "cell_type": "code",
      "execution_count": 6,
      "metadata": {
        "colab": {
          "base_uri": "https://localhost:8080/"
        },
        "id": "sgG5cyKFfo-O",
        "outputId": "70c9459e-0ced-4b8b-8e03-7f3276d625c9"
      },
      "outputs": [
        {
          "output_type": "stream",
          "name": "stdout",
          "text": [
            "[INFO] loading vgg16\n",
            "2021-12-15 05:46:40.578198: W tensorflow/core/common_runtime/gpu/gpu_bfc_allocator.cc:39] Overriding allow_growth setting because the TF_FORCE_GPU_ALLOW_GROWTH environment variable is set. Original config value was 0.\n",
            "CARGANDO Y PREPROCESANDO IMAGEN\n",
            "[INFO] clasificando imagen con 'vgg16'...\n",
            "1. Persian_cat: 24.37%\n",
            "2. tabby: 7.56%\n",
            "3. Egyptian_cat: 7.16%\n",
            "4. mousetrap: 3.99%\n",
            "5. lynx: 3.49%\n",
            "<Figure size 640x480 with 1 Axes>\n"
          ]
        }
      ],
      "source": [
        "!python classify_image.py --image images/cat.jpg --model vgg16"
      ]
    },
    {
      "cell_type": "code",
      "execution_count": 3,
      "metadata": {
        "id": "4Q9Ql615fo-R"
      },
      "outputs": [],
      "source": [
        ""
      ]
    }
  ],
  "metadata": {
    "interpreter": {
      "hash": "a5b1ca146a2b6c1dad98eb34c68ce0978784e2a044fb88d9a2019968fdd7143a"
    },
    "kernelspec": {
      "display_name": "Python 3.9.7 64-bit ('ambienteML': conda)",
      "language": "python",
      "name": "python3"
    },
    "language_info": {
      "codemirror_mode": {
        "name": "ipython",
        "version": 3
      },
      "file_extension": ".py",
      "mimetype": "text/x-python",
      "name": "python",
      "nbconvert_exporter": "python",
      "pygments_lexer": "ipython3",
      "version": "3.9.7"
    },
    "orig_nbformat": 4,
    "colab": {
      "name": "pretrained models.ipynb",
      "provenance": [],
      "include_colab_link": true
    },
    "accelerator": "GPU"
  },
  "nbformat": 4,
  "nbformat_minor": 0
}